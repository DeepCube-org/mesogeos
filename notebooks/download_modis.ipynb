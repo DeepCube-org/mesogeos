{
 "cells": [
  {
   "cell_type": "code",
   "execution_count": 1,
   "id": "mature-cathedral",
   "metadata": {
    "ExecuteTime": {
     "end_time": "2021-05-10T10:44:03.909299Z",
     "start_time": "2021-05-10T10:44:03.749821Z"
    }
   },
   "outputs": [
    {
     "name": "stdout",
     "output_type": "stream",
     "text": [
      "WxPython missing, no GUI enabled\n"
     ]
    }
   ],
   "source": [
    "import download_utils\n",
    "import config\n",
    "from pathlib import Path\n",
    "import os"
   ]
  },
  {
   "cell_type": "code",
   "execution_count": 2,
   "id": "short-watts",
   "metadata": {
    "ExecuteTime": {
     "end_time": "2021-05-10T10:44:03.912319Z",
     "start_time": "2021-05-10T10:44:03.910323Z"
    }
   },
   "outputs": [],
   "source": [
    "dataset_path = Path.home() / 'jh-shared/iprapas/uc3/MED'\n",
    "# dataset_path.mkdir(parents=True, exist_ok=True)"
   ]
  },
  {
   "cell_type": "code",
   "execution_count": 3,
   "id": "armed-queen",
   "metadata": {},
   "outputs": [],
   "source": [
    "missing_med_tile = 'h20v04'\n",
    "all_med_tiles =  f'{config.MODIS_MED_TILES},{missing_med_tile}'"
   ]
  },
  {
   "cell_type": "code",
   "execution_count": 4,
   "id": "injured-excess",
   "metadata": {},
   "outputs": [
    {
     "data": {
      "text/plain": [
       "'h17v04,h17v05,h18v04,h18v05,h19v04,h19v05,h20v05,h20v04'"
      ]
     },
     "execution_count": 4,
     "metadata": {},
     "output_type": "execute_result"
    }
   ],
   "source": [
    "all_med_tiles"
   ]
  },
  {
   "cell_type": "code",
   "execution_count": 6,
   "id": "sonic-executive",
   "metadata": {},
   "outputs": [],
   "source": [
    "modis_products = config.MODIS_PRODUCTS[::-1]"
   ]
  },
  {
   "cell_type": "code",
   "execution_count": 19,
   "id": "falling-chick",
   "metadata": {},
   "outputs": [
    {
     "data": {
      "text/plain": [
       "['MOD11A1.006', 'MOD13A2.006', 'MOD15A2H.006', 'MOD16A2.006']"
      ]
     },
     "execution_count": 19,
     "metadata": {},
     "output_type": "execute_result"
    }
   ],
   "source": [
    "config.MODIS_PRODUCTS"
   ]
  },
  {
   "cell_type": "code",
   "execution_count": 20,
   "id": "desirable-equivalent",
   "metadata": {},
   "outputs": [],
   "source": [
    "modis_products = ['MOD13A2.061','MOD11A1.061', 'MOD15A2H.061',]"
   ]
  },
  {
   "cell_type": "code",
   "execution_count": 11,
   "id": "stylish-footage",
   "metadata": {},
   "outputs": [],
   "source": [
    "# fromdate = '2009.03.01'\n",
    "# todate_prev = '2020.12.31'\n",
    "# todate_new = '2021.09.10'"
   ]
  },
  {
   "cell_type": "code",
   "execution_count": null,
   "id": "incorporate-alabama",
   "metadata": {},
   "outputs": [],
   "source": []
  },
  {
   "cell_type": "code",
   "execution_count": null,
   "id": "expected-ground",
   "metadata": {
    "ExecuteTime": {
     "start_time": "2021-05-10T10:44:03.782Z"
    }
   },
   "outputs": [
    {
     "name": "stderr",
     "output_type": "stream",
     "text": [
      "download_utils.py:download_modis:30: Downloading MOD11A1.006...\n"
     ]
    }
   ],
   "source": [
    "# download_utils.download_modis(output_folder=dataset_path, tiles=missing_med_tile, fromdate=fromdate, todate=todate_new, products=config.MODIS_PRODUCTS)"
   ]
  },
  {
   "cell_type": "code",
   "execution_count": null,
   "id": "coupled-raleigh",
   "metadata": {
    "ExecuteTime": {
     "end_time": "2021-05-10T10:38:57.258571Z",
     "start_time": "2021-05-10T10:38:57.254346Z"
    }
   },
   "outputs": [],
   "source": [
    "# download_utils.download_modis(output_folder=dataset_path, tiles=config.MODIS_MED_TILES, fromdate=todate_prev, todate=todate_new, products=config.MODIS_PRODUCTS)"
   ]
  },
  {
   "cell_type": "code",
   "execution_count": 8,
   "id": "controlling-medline",
   "metadata": {},
   "outputs": [],
   "source": [
    "fromdate1 = '2000.01.01'\n",
    "todate1 = '2009.03.01'"
   ]
  },
  {
   "cell_type": "code",
   "execution_count": 40,
   "id": "nuclear-sentence",
   "metadata": {},
   "outputs": [],
   "source": [
    "fromdate2 = '2000.03.01'\n",
    "todate2 = '2017.07.01'"
   ]
  },
  {
   "cell_type": "code",
   "execution_count": null,
   "id": "global-pearl",
   "metadata": {},
   "outputs": [],
   "source": [
    "# fromdate3 = '2019.09.01'\n",
    "# todate3 = '2019.12.01'\n",
    "# modis_products = ['MOD11A1.061']"
   ]
  },
  {
   "cell_type": "code",
   "execution_count": 34,
   "id": "different-paper",
   "metadata": {},
   "outputs": [],
   "source": [
    "# %%time\n",
    "# download_utils.download_modis(output_folder=dataset_path, tiles=all_med_tiles, fromdate=fromdate1, todate=todate1, products=config.MODIS_PRODUCTS)"
   ]
  },
  {
   "cell_type": "code",
   "execution_count": 42,
   "id": "democratic-registration",
   "metadata": {},
   "outputs": [],
   "source": [
    "modis_products = ['MOD11A1.061']#, 'MOD15A2H.061',]"
   ]
  },
  {
   "cell_type": "code",
   "execution_count": null,
   "id": "charming-absorption",
   "metadata": {},
   "outputs": [
    {
     "name": "stderr",
     "output_type": "stream",
     "text": [
      "download_utils.py:download_modis:30: Downloading MOD11A1.061...\n"
     ]
    }
   ],
   "source": [
    "%%time\n",
    "download_utils.download_modis(output_folder=dataset_path, tiles=all_med_tiles, fromdate=fromdate2, todate=todate2, products=modis_products)"
   ]
  },
  {
   "cell_type": "code",
   "execution_count": null,
   "id": "exclusive-savage",
   "metadata": {},
   "outputs": [],
   "source": [
    "#missing mod11 2019274 - 2019344 "
   ]
  },
  {
   "cell_type": "code",
   "execution_count": 39,
   "id": "joint-sheep",
   "metadata": {},
   "outputs": [
    {
     "name": "stdout",
     "output_type": "stream",
     "text": [
      "config.py\t      input\t\t  __pycache__\tUntitled.ipynb\n",
      "datacube_creation.py  MODIS_variables.md  README.md\tutils.py\n",
      "download_modis.ipynb  netcdf_creation.py  saved_models\n",
      "download_utils.py     notebooks\t\t  scripts\n"
     ]
    }
   ],
   "source": [
    "!ls"
   ]
  },
  {
   "cell_type": "code",
   "execution_count": null,
   "id": "white-masters",
   "metadata": {},
   "outputs": [],
   "source": []
  }
 ],
 "metadata": {
  "kernelspec": {
   "display_name": "python38",
   "language": "python",
   "name": "python38"
  },
  "language_info": {
   "codemirror_mode": {
    "name": "ipython",
    "version": 3
   },
   "file_extension": ".py",
   "mimetype": "text/x-python",
   "name": "python",
   "nbconvert_exporter": "python",
   "pygments_lexer": "ipython3",
   "version": "3.8.10"
  },
  "varInspector": {
   "cols": {
    "lenName": 16,
    "lenType": 16,
    "lenVar": 40
   },
   "kernels_config": {
    "python": {
     "delete_cmd_postfix": "",
     "delete_cmd_prefix": "del ",
     "library": "var_list.py",
     "varRefreshCmd": "print(var_dic_list())"
    },
    "r": {
     "delete_cmd_postfix": ") ",
     "delete_cmd_prefix": "rm(",
     "library": "var_list.r",
     "varRefreshCmd": "cat(var_dic_list()) "
    }
   },
   "types_to_exclude": [
    "module",
    "function",
    "builtin_function_or_method",
    "instance",
    "_Feature"
   ],
   "window_display": false
  }
 },
 "nbformat": 4,
 "nbformat_minor": 5
}
